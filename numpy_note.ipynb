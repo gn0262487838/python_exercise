{
 "cells": [
  {
   "cell_type": "code",
   "execution_count": 1,
   "metadata": {},
   "outputs": [],
   "source": [
    "import numpy as np"
   ]
  },
  {
   "cell_type": "code",
   "execution_count": 3,
   "metadata": {},
   "outputs": [
    {
     "data": {
      "text/plain": [
       "array([2, 3, 4])"
      ]
     },
     "execution_count": 3,
     "metadata": {},
     "output_type": "execute_result"
    }
   ],
   "source": [
    "# 將list轉成array\n",
    "box = [2,3,4]\n",
    "box_Array = np.array(box)\n",
    "box_Array"
   ]
  },
  {
   "cell_type": "code",
   "execution_count": 156,
   "metadata": {},
   "outputs": [
    {
     "name": "stdout",
     "output_type": "stream",
     "text": [
      "\n",
      "np.ndarray : \n",
      "[[228.61452489  41.2        228.61452489]\n",
      " [ 58.17423888 233.77715247  41.2       ]]\n",
      "    \n",
      "np.zeros   : \n",
      "[[0. 0. 0.]\n",
      " [0. 0. 0.]]\n",
      "\n",
      "np.ones    :\n",
      "[[1. 1. 1.]\n",
      " [1. 1. 1.]]\n",
      "\n",
      "np.linspace:\n",
      "[ 0.  2.  4.  6.  8. 10.]\n",
      "\n",
      "np.arange  :\n",
      "[ 0 25 50 75]\n",
      "\n",
      "np.reshape :\n",
      "[ 0 25 50 75]\n",
      "    ||\n",
      "    \\/\n",
      "[[ 0 25]\n",
      " [50 75]]\n",
      "\n"
     ]
    }
   ],
   "source": [
    "# row = 2\n",
    "col = 3\n",
    "\n",
    "print(f\"\"\"\n",
    "np.ndarray : \n",
    "{np.ndarray([row, col], dtype=np.float64)}\n",
    "    \n",
    "np.zeros   : \n",
    "{np.zeros([row, col], dtype=np.float64)}\n",
    "\n",
    "np.ones    :\n",
    "{np.ones([row, col], dtype=np.float64)}\n",
    "\n",
    "np.linspace:\n",
    "{np.linspace(0,10,6)}\n",
    "\n",
    "np.arange  :\n",
    "{np.arange(0,100,25)}\n",
    "\n",
    "np.reshape :\n",
    "{np.arange(0,100,25)}\n",
    "    ||\n",
    "    \\/\n",
    "{np.arange(0,100,25).reshape([2,2])}\n",
    "\"\"\")"
   ]
  },
  {
   "cell_type": "code",
   "execution_count": 52,
   "metadata": {},
   "outputs": [
    {
     "name": "stdout",
     "output_type": "stream",
     "text": [
      "(2, 2, 3)\n",
      "(2, 3)\n"
     ]
    },
    {
     "data": {
      "text/plain": [
       "array([[[12., 24., 36.],\n",
       "        [48., 60., 72.]],\n",
       "\n",
       "       [[12., 24., 36.],\n",
       "        [48., 60., 72.]]])"
      ]
     },
     "execution_count": 52,
     "metadata": {},
     "output_type": "execute_result"
    }
   ],
   "source": [
    "array_1 = np.array([[[1,2,3],[4,5,6]], [[1,2,3],[4,5,6]]], dtype=np.int64)\n",
    "array_2 = np.array([[11,22,33],[44,55,66]], dtype=np.float64)\n",
    "\n",
    "print(array_1.shape)\n",
    "print(array_2.shape)\n",
    "\n",
    "# 雖然shape不是相等，但在(..., 2, 3)的部分有對應到，依然可以相加，要注意的是這裡有點類似分配率的概念。\n",
    "# 直接相加是 點加\n",
    "array_1 + array_2"
   ]
  },
  {
   "cell_type": "code",
   "execution_count": 57,
   "metadata": {},
   "outputs": [
    {
     "data": {
      "text/plain": [
       "42"
      ]
     },
     "execution_count": 57,
     "metadata": {},
     "output_type": "execute_result"
    }
   ],
   "source": [
    "# 所有元素相加\n",
    "array_1.sum()"
   ]
  },
  {
   "cell_type": "code",
   "execution_count": 54,
   "metadata": {},
   "outputs": [
    {
     "data": {
      "text/plain": [
       "array([[ 2,  4,  6],\n",
       "       [ 8, 10, 12]], dtype=int64)"
      ]
     },
     "execution_count": 54,
     "metadata": {},
     "output_type": "execute_result"
    }
   ],
   "source": [
    "array_1.sum(axis=0)"
   ]
  },
  {
   "cell_type": "code",
   "execution_count": 55,
   "metadata": {},
   "outputs": [
    {
     "data": {
      "text/plain": [
       "array([[5, 7, 9],\n",
       "       [5, 7, 9]], dtype=int64)"
      ]
     },
     "execution_count": 55,
     "metadata": {},
     "output_type": "execute_result"
    }
   ],
   "source": [
    "array_1.sum(axis=1)"
   ]
  },
  {
   "cell_type": "code",
   "execution_count": 56,
   "metadata": {},
   "outputs": [
    {
     "data": {
      "text/plain": [
       "array([[ 6, 15],\n",
       "       [ 6, 15]], dtype=int64)"
      ]
     },
     "execution_count": 56,
     "metadata": {},
     "output_type": "execute_result"
    }
   ],
   "source": [
    "array_1.sum(axis=2)"
   ]
  },
  {
   "cell_type": "code",
   "execution_count": 66,
   "metadata": {},
   "outputs": [
    {
     "data": {
      "text/plain": [
       "array([[110., 220., 330.],\n",
       "       [440., 550., 660.]])"
      ]
     },
     "execution_count": 66,
     "metadata": {},
     "output_type": "execute_result"
    }
   ],
   "source": [
    "# scalar可直接點乘\n",
    "array_2 * 10"
   ]
  },
  {
   "cell_type": "code",
   "execution_count": 87,
   "metadata": {},
   "outputs": [
    {
     "data": {
      "text/plain": [
       "array([[ 11.,  44.,  99.],\n",
       "       [ 44., 110., 198.]])"
      ]
     },
     "execution_count": 87,
     "metadata": {},
     "output_type": "execute_result"
    }
   ],
   "source": [
    "# shape不一樣不可以相乘，就算shape一樣，相乘也是對應的點相乘。\n",
    "array_2 * np.array([[1, 2, 3]])"
   ]
  },
  {
   "cell_type": "code",
   "execution_count": 122,
   "metadata": {},
   "outputs": [
    {
     "name": "stdout",
     "output_type": "stream",
     "text": [
      "\n",
      "array_2 @ np.array([1,2,3] :\n",
      "[[11. 22. 33.]\n",
      " [44. 55. 66.]] dot [1 2 3] = [154. 352.]\n",
      "\n",
      "np.matmul                  :\n",
      "[[154.]\n",
      " [352.]]\n",
      " \n",
      "np.dot                     :\n",
      "((2, 3), (3,))\n",
      "[154. 352.]\n",
      "\n",
      "# 轉置一下array \n",
      "((3,), (3, 2))\n",
      "[154. 352.]\n",
      "\n",
      "# 注意matrix的乘法要形狀對得起來才能做喔，ex. shape: (2,3) @ (3,3) = (2,3)\n",
      "\n"
     ]
    }
   ],
   "source": [
    "print(f\"\"\"\n",
    "array_2 @ np.array([1,2,3] :\n",
    "{array_2} dot {np.array([1,2,3])} = {array_2 @ np.array([1,2,3])}\n",
    "\n",
    "np.matmul                  :\n",
    "{np.matmul(array_2, np.array([[1],[2],[3]]))}\n",
    " \n",
    "np.dot                     :\n",
    "{array_2.shape, np.array([1,2,3]).shape}\n",
    "{np.dot(array_2, np.array([1,2,3]))}\n",
    "\n",
    "# 轉置一下array \n",
    "{np.array([1,2,3]).shape, array_2.T.shape}\n",
    "{np.dot(np.array([1,2,3]), array_2.T)}\n",
    "\n",
    "# 注意matrix的乘法要形狀對得起來才能做喔，ex. shape: (2,3) @ (3,3) = (2,3)\n",
    "\"\"\")"
   ]
  },
  {
   "cell_type": "code",
   "execution_count": 126,
   "metadata": {},
   "outputs": [
    {
     "name": "stdout",
     "output_type": "stream",
     "text": [
      "\n",
      "看一下Data\n",
      "[44 47 64 67 67  9 83 21 36 87]\n",
      "\n",
      "np.cumsum 累計計算\n",
      "[ 44  91 155 222 289 298 381 402 438 525]\n",
      "\n"
     ]
    }
   ],
   "source": [
    "print(f\"\"\"\n",
    "看一下Data\n",
    "{np.random.RandomState(0).randint(0,100,size=10)}\n",
    "\n",
    "np.cumsum 累計計算\n",
    "{np.cumsum(np.random.RandomState(0).randint(0,100,size=10))}\n",
    "\"\"\")"
   ]
  },
  {
   "cell_type": "code",
   "execution_count": 127,
   "metadata": {},
   "outputs": [
    {
     "name": "stdout",
     "output_type": "stream",
     "text": [
      "1\n",
      "999\n"
     ]
    }
   ],
   "source": [
    "# 假設常態分佈，並利用標準差找尋outlier\n",
    "num_with_mean_50_and_std_5 = np.random.RandomState(0).randn(1000) * 5 + 50\n",
    "num_with_mean_50_and_std_5_MEAN = np.mean(num_with_mean_50_and_std_5)\n",
    "num_with_mean_50_and_std_5_STD = np.std(num_with_mean_50_and_std_5)\n",
    "\n",
    "lower = num_with_mean_50_and_std_5_MEAN - num_with_mean_50_and_std_5_STD * 3\n",
    "upper = num_with_mean_50_and_std_5_MEAN + num_with_mean_50_and_std_5_STD * 3\n",
    "\n",
    "outlier = [x for x in num_with_mean_50_and_std_5 if x < lower or x > upper]\n",
    "outlier_removed = [x for x in num_with_mean_50_and_std_5 if x >= lower and x <= upper]\n",
    "\n",
    "print(len(outlier))\n",
    "print(len(outlier_removed))"
   ]
  },
  {
   "cell_type": "code",
   "execution_count": 128,
   "metadata": {},
   "outputs": [
    {
     "name": "stdout",
     "output_type": "stream",
     "text": [
      "IQR: 6.53\n",
      "QD: 3.26\n",
      "=====我是分隔線=====\n",
      "8\n",
      "992\n"
     ]
    }
   ],
   "source": [
    "# 使用IQR找尋outlier\n",
    "q25, q75 = np.percentile(num_with_mean_50_and_std_5, q=25), np.percentile(num_with_mean_50_and_std_5, q=75)\n",
    "IQR = q75 - q25\n",
    "QD = (q75 - q25) / 2\n",
    "print(\"IQR: {:.2f}\".format(IQR))\n",
    "print(\"QD: {:.2f}\".format(QD))\n",
    "print(\"=====我是分隔線=====\")\n",
    "\n",
    "cut_off = IQR * 1.5\n",
    "lower, upper = q25 - cut_off, q75 + cut_off\n",
    "outlier = [x for x in num_with_mean_50_and_std_5 if x < lower or x > upper]\n",
    "outlier_removed = [x for x in num_with_mean_50_and_std_5 if x >= lower and x <= upper]\n",
    "\n",
    "print(len(outlier))\n",
    "print(len(outlier_removed))"
   ]
  }
 ],
 "metadata": {
  "kernelspec": {
   "display_name": "'Python Interactive'",
   "language": "python",
   "name": "9644b5ec-5b86-44a2-b609-d67090ecdb45"
  },
  "language_info": {
   "codemirror_mode": {
    "name": "ipython",
    "version": 3
   },
   "file_extension": ".py",
   "mimetype": "text/x-python",
   "name": "python",
   "nbconvert_exporter": "python",
   "pygments_lexer": "ipython3",
   "version": "3.7.4"
  }
 },
 "nbformat": 4,
 "nbformat_minor": 4
}
